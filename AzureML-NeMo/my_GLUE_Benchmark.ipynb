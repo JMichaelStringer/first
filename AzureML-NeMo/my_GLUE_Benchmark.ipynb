{
 "cells": [
  {
   "cell_type": "code",
   "execution_count": 1,
   "metadata": {
    "colab": {},
    "colab_type": "code",
    "id": "dzqD2WDFOIN-"
   },
   "outputs": [
    {
     "name": "stderr",
     "output_type": "stream",
     "text": [
      "\u001b[34m\u001b[1mwandb\u001b[0m: \u001b[33mWARNING\u001b[0m W&B installed but not logged in.  Run `wandb login` or set the WANDB_API_KEY env variable.\n",
      "[NeMo W 2020-10-22 20:22:45 experimental:28] Module <class 'nemo.collections.nlp.modules.common.huggingface.auto.AutoModelEncoder'> is experimental, not ready for production and is not fully supported. Use at your own risk.\n",
      "[NeMo W 2020-10-22 20:22:45 experimental:28] Module <class 'nemo.collections.nlp.modules.common.megatron.megatron_bert.MegatronBertEncoder'> is experimental, not ready for production and is not fully supported. Use at your own risk.\n"
     ]
    },
    {
     "name": "stdout",
     "output_type": "stream",
     "text": [
      "WARNING: APEX is not installed, multi_tensor_applier will not be available.\n",
      "WARNING: APEX is not installed, using torch.nn.LayerNorm instead of apex.normalization.FusedLayerNorm!\n"
     ]
    }
   ],
   "source": [
    "from nemo.collections import nlp as nemo_nlp\n",
    "from nemo.utils.exp_manager import exp_manager\n",
    "\n",
    "import os\n",
    "import wget \n",
    "import torch\n",
    "import pytorch_lightning as pl\n",
    "from omegaconf import OmegaConf"
   ]
  },
  {
   "cell_type": "markdown",
   "metadata": {
    "colab_type": "text",
    "id": "daYw_Xll2ZR9"
   },
   "source": [
    "In this tutorial, we are going to describe how to finetune a BERT-like model based on [BERT: Pre-training of Deep Bidirectional Transformers for Language Understanding](https://arxiv.org/abs/1810.04805) on [GLUE: A Multi-Task Benchmark and Analysis Platform for Natural Language Understanding](https://openreview.net/pdf?id=rJ4km2R5t7). \n",
    "\n",
    "# GLUE tasks\n",
    "GLUE Benchmark includes 9 natural language understanding tasks:\n",
    "\n",
    "## Single-Sentence Tasks\n",
    "\n",
    "* CoLA - [The Corpus of Linguistic Acceptability](https://arxiv.org/abs/1805.12471) is a set of English sentences from published linguistics literature. The task is to predict whether a given sentence is grammatically correct or not.\n",
    "* SST-2 - [The Stanford Sentiment Treebank](https://nlp.stanford.edu/~socherr/EMNLP2013_RNTN.pdf) consists of sentences from movie reviews and human annotations of their sentiment. The task is to predict the sentiment of a given sentence: positive or negative.\n",
    "\n",
    "## Similarity and Paraphrase tasks\n",
    "\n",
    "* MRPC - [The Microsoft Research Paraphrase Corpus](https://www.aclweb.org/anthology/I05-5002.pdf) is a corpus of sentence pairs automatically extracted from online news sources, with human annotations for whether the sentences in the pair are semantically equivalent.\n",
    "* QQP - [The Quora Question Pairs](https://www.quora.com/q/quoradata/First-Quora-Dataset-Release-Question-Pairs) dataset is a collection of question pairs from the community question-answering website Quora. The task is to determine whether a pair of questions are semantically equivalent.\n",
    "* STS-B - [The Semantic Textual Similarity Benchmark](https://arxiv.org/abs/1708.00055) is a collection of sentence pairs drawn from news headlines, video, and image captions, and natural language inference data. The task is to determine how similar two sentences are.\n",
    "\n",
    "## Inference Tasks\n",
    "\n",
    "* MNLI - [The Multi-Genre Natural Language Inference Corpus](https://cims.nyu.edu/~sbowman/multinli/multinli_0.9.pdf) is a crowdsourced collection of sentence pairs with textual entailment annotations. Given a premise sentence and a hypothesis sentence, the task is to predict whether the premise entails the hypothesis (entailment), contradicts the hypothesis (contradiction), or neither (neutral). The task has the matched (in-domain) and mismatched (cross-domain) sections.\n",
    "* QNLI - [The Stanford Question Answering Dataset](https://nlp.stanford.edu/pubs/rajpurkar2016squad.pdf) is a question-answering dataset consisting of question-paragraph pairs, where one of the sentences in the paragraph (drawn from Wikipedia) contains the answer to the corresponding question. The task is to determine whether the context sentence contains the answer to the question.\n",
    "* RTE The Recognizing Textual Entailment (RTE) datasets come from a series of annual [textual entailment challenges](https://aclweb.org/aclwiki/Recognizing_Textual_Entailment). The task is to determine whether the second sentence is the entailment of the first one or not.\n",
    "* WNLI - The Winograd Schema Challenge is a reading comprehension task in which a system must read a sentence with a pronoun and select the referent of that pronoun from a list of choices (Hector Levesque, Ernest Davis, and Leora Morgenstern. The winograd schema challenge. In Thirteenth International Conference on the Principles of Knowledge Representation and Reasoning. 2012).\n",
    "\n",
    "All tasks are classification tasks, except for the STS-B task which is a regression task. All classification tasks are 2-class problems, except for the MNLI task which has 3-classes.\n",
    "\n",
    "More details about GLUE benchmark could be found [here](https://gluebenchmark.com/)."
   ]
  },
  {
   "cell_type": "markdown",
   "metadata": {
    "colab_type": "text",
    "id": "ZnuziSwJ1yEB"
   },
   "source": [
    "# Datasets\n",
    "\n",
    "**To proceed further, you need to download the GLUE data.** For example, you can download [this script](https://gist.githubusercontent.com/W4ngatang/60c2bdb54d156a41194446737ce03e2e/raw/17b8dd0d724281ed7c3b2aeeda662b92809aadd5/download_glue_data.py) using `wget` and then execute it by running:\n",
    "\n",
    "`python download_glue_data.py`\n",
    "\n",
    "use `--tasks TASK` if datasets for only selected GLUE tasks are needed\n",
    "\n",
    "After running the above commands, you will have a folder `glue_data` with data folders for every GLUE task. For example, data for MRPC task would be under glue_data/MRPC.\n",
    "\n",
    "This tutorial and [examples/nlp/glue_benchmark/glue_benchmark.py](https://github.com/NVIDIA/NeMo/blob/main/examples/nlp/glue_benchmark/glue_benchmark.py) work with all GLUE tasks without any modifications. For this tutorial, we are going to use MRPC task.\n",
    "\n",
    "\n",
    "\n"
   ]
  },
  {
   "cell_type": "code",
   "execution_count": 2,
   "metadata": {
    "colab": {},
    "colab_type": "code",
    "id": "--wJ2891aIIE"
   },
   "outputs": [],
   "source": [
    "# supported task names: [\"cola\", \"sst-2\", \"mrpc\", \"sts-b\", \"qqp\", \"mnli\", \"qnli\", \"rte\", \"wnli\"]\n",
    "TASK = 'sst-2'\n",
    "DATA_DIR = 'DATA_DIR/glue_data/SST-2'\n",
    "WORK_DIR = \"WORK_DIR\"\n",
    "MODEL_CONFIG = 'glue_benchmark_config.yaml'"
   ]
  },
  {
   "cell_type": "code",
   "execution_count": 3,
   "metadata": {
    "colab": {},
    "colab_type": "code",
    "id": "qB0oLE4R9EhJ"
   },
   "outputs": [
    {
     "name": "stdout",
     "output_type": "stream",
     "text": [
      "total 4003\n",
      "-rwxrwxrwx 1 root root   94931 Oct 22 20:17 dev.tsv\n",
      "drwxrwxrwx 2 root root       0 Oct 22 20:17 original\n",
      "-rwxrwxrwx 1 root root  197335 Oct 22 20:17 test.tsv\n",
      "-rwxrwxrwx 1 root root 3806081 Oct 22 20:17 train.tsv\n"
     ]
    }
   ],
   "source": [
    "! ls -l $DATA_DIR"
   ]
  },
  {
   "cell_type": "markdown",
   "metadata": {
    "colab_type": "text",
    "id": "gMWuU69pbUDe"
   },
   "source": [
    "For each task, there are 3 files: `train.tsv, dev.tsv, and test.tsv`. Note, MNLI has 2 dev sets: matched and mismatched, evaluation on both dev sets will be done automatically."
   ]
  },
  {
   "cell_type": "code",
   "execution_count": 4,
   "metadata": {
    "colab": {},
    "colab_type": "code",
    "id": "6UDPgadLN6SG"
   },
   "outputs": [
    {
     "name": "stdout",
     "output_type": "stream",
     "text": [
      "sentence\tlabel\n",
      "hide new secretions from the parental units \t0\n",
      "contains no wit , only labored gags \t0\n",
      "that loves its characters and communicates something rather beautiful about human nature \t1\n",
      "remains utterly satisfied to remain the same throughout \t0\n"
     ]
    }
   ],
   "source": [
    "# let's take a look at the training data \n",
    "! head -n 5 {DATA_DIR}/train.tsv"
   ]
  },
  {
   "cell_type": "markdown",
   "metadata": {
    "colab_type": "text",
    "id": "_whKCxfTMo6Y"
   },
   "source": [
    "# Model configuration\n",
    "\n",
    "Now, let's take a closer look at the model's configuration and learn to train the model.\n",
    "\n",
    "GLUE model is comprised of the pretrained [BERT](https://arxiv.org/pdf/1810.04805.pdf) model followed by a Sequence Regression module (for STS-B task) or  Sequence classifier module (for the rest of the tasks).\n",
    "\n",
    "The model is defined in a config file which declares multiple important sections. They are:\n",
    "- **model**: All arguments that are related to the Model - language model, a classifier, optimizer and schedulers, datasets and any other related information\n",
    "\n",
    "- **trainer**: Any argument to be passed to PyTorch Lightning"
   ]
  },
  {
   "cell_type": "code",
   "execution_count": 5,
   "metadata": {
    "colab": {},
    "colab_type": "code",
    "id": "T1gA8PsJ13MJ"
   },
   "outputs": [
    {
     "name": "stdout",
     "output_type": "stream",
     "text": [
      "Downloading config file...\n"
     ]
    }
   ],
   "source": [
    "# download the model's configuration file \n",
    "config_dir = WORK_DIR + '/configs/'\n",
    "os.makedirs(config_dir, exist_ok=True)\n",
    "if not os.path.exists(config_dir + MODEL_CONFIG):\n",
    "    print('Downloading config file...')\n",
    "    wget.download('https://raw.githubusercontent.com/NVIDIA/NeMo/main/examples/nlp/glue_benchmark/' + MODEL_CONFIG, config_dir)\n",
    "else:\n",
    "    print ('config file is already exists')"
   ]
  },
  {
   "cell_type": "code",
   "execution_count": 6,
   "metadata": {
    "colab": {},
    "colab_type": "code",
    "id": "mX3KmWMvSUQw"
   },
   "outputs": [
    {
     "name": "stdout",
     "output_type": "stream",
     "text": [
      "WORK_DIR/configs/glue_benchmark_config.yaml\n",
      "supported_tasks:\n",
      "- cola\n",
      "- sst-2\n",
      "- mrpc\n",
      "- sts-b\n",
      "- qqp\n",
      "- mnli\n",
      "- qnli\n",
      "- rte\n",
      "- wnli\n",
      "trainer:\n",
      "  gpus: 1\n",
      "  num_nodes: 1\n",
      "  max_epochs: 3\n",
      "  max_steps: null\n",
      "  accumulate_grad_batches: 1\n",
      "  amp_level: O0\n",
      "  precision: 16\n",
      "  accelerator: ddp\n",
      "  checkpoint_callback: false\n",
      "  logger: false\n",
      "model:\n",
      "  task_name: mrpc\n",
      "  supported_tasks:\n",
      "  - cola\n",
      "  - sst-2\n",
      "  - mrpc\n",
      "  - sts-b\n",
      "  - qqp\n",
      "  - mnli\n",
      "  - qnli\n",
      "  - rte\n",
      "  - wnli\n",
      "  output_dir: null\n",
      "  nemo_path: null\n",
      "  dataset:\n",
      "    data_dir: ???\n",
      "    max_seq_length: 128\n",
      "    use_cache: true\n",
      "    num_workers: 2\n",
      "    pin_memory: false\n",
      "    drop_last: false\n",
      "  train_ds:\n",
      "    file_name: train.tsv\n",
      "    shuffle: true\n",
      "    num_samples: -1\n",
      "    batch_size: 32\n",
      "  validation_ds:\n",
      "    file_name: dev.tsv\n",
      "    shuffle: false\n",
      "    num_samples: -1\n",
      "    batch_size: 32\n",
      "  tokenizer:\n",
      "    tokenizer_name: ${model.language_model.pretrained_model_name}\n",
      "    vocab_file: null\n",
      "    tokenizer_model: null\n",
      "    special_tokens: null\n",
      "  language_model:\n",
      "    pretrained_model_name: bert-base-uncased\n",
      "    lm_checkpoint: null\n",
      "    config_file: null\n",
      "    config: null\n",
      "  optim:\n",
      "    name: adam\n",
      "    lr: 5.0e-05\n",
      "    weight_decay: 0.0\n",
      "    sched:\n",
      "      name: WarmupAnnealing\n",
      "      warmup_steps: null\n",
      "      warmup_ratio: 0.1\n",
      "      last_epoch: -1\n",
      "      monitor: val_loss\n",
      "      reduce_on_plateau: false\n",
      "exp_manager:\n",
      "  exp_dir: null\n",
      "  name: mrpc\n",
      "  create_tensorboard_logger: true\n",
      "  create_checkpoint_callback: true\n",
      "hydra:\n",
      "  run:\n",
      "    dir: .\n",
      "  job_logging:\n",
      "    root:\n",
      "      handlers: null\n",
      "\n"
     ]
    }
   ],
   "source": [
    "# this line will print the entire config of the model\n",
    "config_path = f'{WORK_DIR}/configs/{MODEL_CONFIG}'\n",
    "print(config_path)\n",
    "config = OmegaConf.load(config_path)\n",
    "print(OmegaConf.to_yaml(config))"
   ]
  },
  {
   "cell_type": "markdown",
   "metadata": {
    "colab_type": "text",
    "id": "ZCgWzNBkaQLZ"
   },
   "source": [
    "# Model Training\n",
    "## Setting up Data within the config\n",
    "\n",
    "Among other things, the config file contains dictionaries called **dataset**, **train_ds** and **validation_ds**. These are configurations used to setup the Dataset and DataLoaders of the corresponding config.\n",
    "\n",
    "We assume that both training and evaluation files are located in the same directory, and use the default names mentioned during the data download step. \n",
    "So, to start model training, we simply need to specify `model.dataset.data_dir`, like we are going to do below.\n",
    "\n",
    "Also notice that some config lines, including `model.dataset.data_dir`, have `???` in place of paths, this means that values for these fields are required to be specified by the user.\n",
    "\n",
    "Let's now add the data directory path, task name and output directory for saving predictions to the config."
   ]
  },
  {
   "cell_type": "code",
   "execution_count": 7,
   "metadata": {
    "colab": {},
    "colab_type": "code",
    "id": "LQHCJN-ZaoLp"
   },
   "outputs": [],
   "source": [
    "config.model.task_name = TASK\n",
    "config.model.output_dir = WORK_DIR\n",
    "config.model.dataset.data_dir = DATA_DIR"
   ]
  },
  {
   "cell_type": "markdown",
   "metadata": {
    "colab_type": "text",
    "id": "nB96-3sTc3yk"
   },
   "source": [
    "## Building the PyTorch Lightning Trainer\n",
    "\n",
    "NeMo models are primarily PyTorch Lightning modules - and therefore are entirely compatible with the PyTorch Lightning ecosystem.\n",
    "\n",
    "Let's first instantiate a Trainer object"
   ]
  },
  {
   "cell_type": "code",
   "execution_count": 8,
   "metadata": {
    "colab": {},
    "colab_type": "code",
    "id": "1tG4FzZ4Ui60"
   },
   "outputs": [
    {
     "name": "stdout",
     "output_type": "stream",
     "text": [
      "Trainer config - \n",
      "\n",
      "gpus: 1\n",
      "num_nodes: 1\n",
      "max_epochs: 3\n",
      "max_steps: null\n",
      "accumulate_grad_batches: 1\n",
      "amp_level: O0\n",
      "precision: 16\n",
      "accelerator: ddp\n",
      "checkpoint_callback: false\n",
      "logger: false\n",
      "\n"
     ]
    }
   ],
   "source": [
    "print(\"Trainer config - \\n\")\n",
    "print(OmegaConf.to_yaml(config.trainer))"
   ]
  },
  {
   "cell_type": "code",
   "execution_count": 9,
   "metadata": {
    "colab": {},
    "colab_type": "code",
    "id": "knF6QeQQdMrH"
   },
   "outputs": [
    {
     "name": "stderr",
     "output_type": "stream",
     "text": [
      "GPU available: True, used: True\n",
      "INFO - GPU available: True, used: True\n",
      "TPU available: False, using: 0 TPU cores\n",
      "INFO - TPU available: False, using: 0 TPU cores\n",
      "LOCAL_RANK: 0 - CUDA_VISIBLE_DEVICES: [0]\n",
      "INFO - LOCAL_RANK: 0 - CUDA_VISIBLE_DEVICES: [0]\n",
      "Using native 16bit precision.\n",
      "INFO - Using native 16bit precision.\n"
     ]
    }
   ],
   "source": [
    "# lets modify some trainer configs\n",
    "# checks if we have GPU available and uses it\n",
    "cuda = 1 if torch.cuda.is_available() else 0\n",
    "config.trainer.gpus = cuda\n",
    "\n",
    "config.trainer.precision = 16 if torch.cuda.is_available() else 32\n",
    "# config.trainer.precision = 32\n",
    "\n",
    "config.model.dataset.num_workers=4 \n",
    "# config.model.optim.lr=4.232e-04\n",
    "\n",
    "config.model.train_ds.batch_size=128\n",
    "\n",
    "# for mixed precision training, uncomment the line below (precision should be set to 16 and amp_level to O1):\n",
    "# config.trainer.amp_level = O1\n",
    "\n",
    "# remove distributed training flags\n",
    "config.trainer.distributed_backend = None\n",
    "\n",
    "# setup max number of steps to reduce training time for demonstration purposes of this tutorial\n",
    "# config.trainer.max_steps = 128\n",
    "\n",
    "# setup max number of epochs \n",
    "config.trainer.max_epochs=1#1\n",
    "\n",
    "# does not save checkpoints (faster training iterations without saves) \n",
    "config.exp_manager.create_checkpoint_callback=False\n",
    "\n",
    "trainer = pl.Trainer(**config.trainer)"
   ]
  },
  {
   "cell_type": "markdown",
   "metadata": {
    "colab_type": "text",
    "id": "8IlEMdVxdr6p"
   },
   "source": [
    "## Setting up a NeMo Experiment\n",
    "\n",
    "NeMo has an experiment manager that handles logging and checkpointing for us, so let's use it:"
   ]
  },
  {
   "cell_type": "code",
   "execution_count": 10,
   "metadata": {
    "colab": {},
    "colab_type": "code",
    "id": "8uztqGAmdrYt"
   },
   "outputs": [
    {
     "name": "stdout",
     "output_type": "stream",
     "text": [
      "[NeMo I 2020-10-22 20:22:47 exp_manager:169] Experiments will be logged at /mnt/batch/tasks/shared/LS_root/mounts/clusters/vac20amlofgpuv100-go3/code/Users/Johnathon.Stringer/AzureML-NeMo/nemo_experiments/mrpc/2020-10-22_20-22-47\n",
      "[NeMo I 2020-10-22 20:22:47 exp_manager:503] TensorboardLogger has been set up\n"
     ]
    },
    {
     "data": {
      "text/plain": [
       "'/mnt/batch/tasks/shared/LS_root/mounts/clusters/vac20amlofgpuv100-go3/code/Users/Johnathon.Stringer/AzureML-NeMo/nemo_experiments/mrpc/2020-10-22_20-22-47'"
      ]
     },
     "execution_count": 10,
     "metadata": {},
     "output_type": "execute_result"
    }
   ],
   "source": [
    "exp_dir = exp_manager(trainer, config.get(\"exp_manager\", None))\n",
    "\n",
    "# the exp_dir provides a path to the current experiment for easy access\n",
    "exp_dir = str(exp_dir)\n",
    "exp_dir"
   ]
  },
  {
   "cell_type": "markdown",
   "metadata": {
    "colab_type": "text",
    "id": "8tjLhUvL_o7_"
   },
   "source": [
    "Before initializing the model, we might want to modify some of the model configs. For example, we might want to modify the pretrained BERT model and use [Megatron-LM BERT](https://arxiv.org/abs/1909.08053) or [AlBERT model](https://arxiv.org/abs/1909.11942):"
   ]
  },
  {
   "cell_type": "code",
   "execution_count": 11,
   "metadata": {
    "colab": {},
    "colab_type": "code",
    "id": "Xeuc2i7Y_nP5"
   },
   "outputs": [
    {
     "name": "stdout",
     "output_type": "stream",
     "text": [
      "['megatron-bert-345m-uncased', 'megatron-bert-345m-cased', 'megatron-bert-uncased', 'megatron-bert-cased', 'biomegatron-bert-345m-uncased', 'biomegatron-bert-345m-cased', 'bert-base-uncased', 'bert-large-uncased', 'bert-base-cased', 'bert-large-cased', 'bert-base-multilingual-uncased', 'bert-base-multilingual-cased', 'bert-base-chinese', 'bert-base-german-cased', 'bert-large-uncased-whole-word-masking', 'bert-large-cased-whole-word-masking', 'bert-large-uncased-whole-word-masking-finetuned-squad', 'bert-large-cased-whole-word-masking-finetuned-squad', 'bert-base-cased-finetuned-mrpc', 'bert-base-german-dbmdz-cased', 'bert-base-german-dbmdz-uncased', 'cl-tohoku/bert-base-japanese', 'cl-tohoku/bert-base-japanese-whole-word-masking', 'cl-tohoku/bert-base-japanese-char', 'cl-tohoku/bert-base-japanese-char-whole-word-masking', 'TurkuNLP/bert-base-finnish-cased-v1', 'TurkuNLP/bert-base-finnish-uncased-v1', 'wietsedv/bert-base-dutch-cased', 'facebook/bart-base', 'facebook/bart-large', 'facebook/bart-large-mnli', 'facebook/bart-large-cnn', 'facebook/bart-large-xsum', 'facebook/mbart-large-en-ro', 'yjernite/bart_eli5', 'facebook/blenderbot-3B', 'facebook/blenderbot-90M', 'facebook/mbart-large-cc25', 'openai-gpt', 'transfo-xl-wt103', 'gpt2', 'gpt2-medium', 'gpt2-large', 'gpt2-xl', 'distilgpt2', 'ctrl', 'xlnet-base-cased', 'xlnet-large-cased', 'xlm-mlm-en-2048', 'xlm-mlm-ende-1024', 'xlm-mlm-enfr-1024', 'xlm-mlm-enro-1024', 'xlm-mlm-tlm-xnli15-1024', 'xlm-mlm-xnli15-1024', 'xlm-clm-enfr-1024', 'xlm-clm-ende-1024', 'xlm-mlm-17-1280', 'xlm-mlm-100-1280', 'roberta-base', 'roberta-large', 'roberta-large-mnli', 'distilroberta-base', 'roberta-base-openai-detector', 'roberta-large-openai-detector', 'distilbert-base-uncased', 'distilbert-base-uncased-distilled-squad', 'distilbert-base-cased', 'distilbert-base-cased-distilled-squad', 'distilbert-base-german-cased', 'distilbert-base-multilingual-cased', 'distilbert-base-uncased-finetuned-sst-2-english', 'albert-base-v1', 'albert-large-v1', 'albert-xlarge-v1', 'albert-xxlarge-v1', 'albert-base-v2', 'albert-large-v2', 'albert-xlarge-v2', 'albert-xxlarge-v2', 'camembert-base', 'umberto-commoncrawl-cased-v1', 'umberto-wikipedia-uncased-v1', 't5-small', 't5-base', 't5-large', 't5-3b', 't5-11b', 'xlm-roberta-base', 'xlm-roberta-large', 'xlm-roberta-large-finetuned-conll02-dutch', 'xlm-roberta-large-finetuned-conll02-spanish', 'xlm-roberta-large-finetuned-conll03-english', 'xlm-roberta-large-finetuned-conll03-german', 'flaubert/flaubert_small_cased', 'flaubert/flaubert_base_uncased', 'flaubert/flaubert_base_cased', 'flaubert/flaubert_large_cased', 'google/electra-small-generator', 'google/electra-base-generator', 'google/electra-large-generator', 'google/electra-small-discriminator', 'google/electra-base-discriminator', 'google/electra-large-discriminator', 'allenai/longformer-base-4096', 'allenai/longformer-large-4096', 'allenai/longformer-large-4096-finetuned-triviaqa', 'allenai/longformer-base-4096-extra.pos.embd.only', 'allenai/longformer-large-4096-extra.pos.embd.only', 'retribert-base-uncased', 'funnel-transformer/small', 'funnel-transformer/small-base', 'funnel-transformer/medium', 'funnel-transformer/medium-base', 'funnel-transformer/intermediate', 'funnel-transformer/intermediate-base', 'funnel-transformer/large', 'funnel-transformer/large-base', 'funnel-transformer/xlarge', 'funnel-transformer/xlarge-base', 'unc-nlp/lxmert-base-uncased', 'layoutlm-base-uncased', 'layoutlm-large-uncased', 'facebook/dpr-ctx_encoder-single-nq-base', 'facebook/dpr-question_encoder-single-nq-base', 'facebook/dpr-reader-single-nq-base', 'facebook/dpr-ctx_encoder-multiset-base', 'facebook/dpr-question_encoder-multiset-base', 'facebook/dpr-reader-multiset-base', 'microsoft/deberta-base', 'microsoft/deberta-large', 'squeezebert/squeezebert-uncased', 'squeezebert/squeezebert-mnli', 'squeezebert/squeezebert-mnli-headless', 'microsoft/xprophetnet-large-wiki100-cased', 'microsoft/prophetnet-large-uncased']\n"
     ]
    }
   ],
   "source": [
    "# get the list of supported BERT-like models, for the complete list of HugginFace models, see https://huggingface.co/models\n",
    "print(nemo_nlp.modules.get_pretrained_lm_models_list(include_external=True))\n",
    "\n",
    "# specify BERT-like model, you want to use, for example, \"megatron-bert-345m-uncased\" or 'bert-base-uncased'\n",
    "PRETRAINED_BERT_MODEL = \"albert-base-v1\""
   ]
  },
  {
   "cell_type": "code",
   "execution_count": 12,
   "metadata": {
    "colab": {},
    "colab_type": "code",
    "id": "RK2xglXyAUOO"
   },
   "outputs": [],
   "source": [
    "# add the specified above model parameters to the config\n",
    "config.model.language_model.pretrained_model_name = PRETRAINED_BERT_MODEL"
   ]
  },
  {
   "cell_type": "markdown",
   "metadata": {
    "colab_type": "text",
    "id": "fzNZNAVRjDD-"
   },
   "source": [
    "Now, we are ready to initialize our model. During the model initialization call, the dataset and data loaders we'll be prepared for training and evaluation.\n",
    "Also, the pretrained BERT model will be downloaded, note it can take up to a few minutes depending on the size of the chosen BERT model."
   ]
  },
  {
   "cell_type": "code",
   "execution_count": 13,
   "metadata": {
    "colab": {},
    "colab_type": "code",
    "id": "NgsGLydWo-6-"
   },
   "outputs": [
    {
     "name": "stdout",
     "output_type": "stream",
     "text": [
      "[NeMo I 2020-10-22 20:22:47 glue_benchmark_model:99] Using DATA_DIR/glue_data/SST-2/dev.tsv for model evaluation.\n"
     ]
    },
    {
     "data": {
      "application/vnd.jupyter.widget-view+json": {
       "model_id": "34dbda6d3c0346a98f725d7de1b16d25",
       "version_major": 2,
       "version_minor": 0
      },
      "text/plain": [
       "HBox(children=(HTML(value='Downloading'), FloatProgress(value=0.0, max=684.0), HTML(value='')))"
      ]
     },
     "metadata": {},
     "output_type": "display_data"
    },
    {
     "name": "stdout",
     "output_type": "stream",
     "text": [
      "\n"
     ]
    },
    {
     "data": {
      "application/vnd.jupyter.widget-view+json": {
       "model_id": "1a6bf81636cd4298bf895ce205f971d3",
       "version_major": 2,
       "version_minor": 0
      },
      "text/plain": [
       "HBox(children=(HTML(value='Downloading'), FloatProgress(value=0.0, max=760289.0), HTML(value='')))"
      ]
     },
     "metadata": {},
     "output_type": "display_data"
    },
    {
     "name": "stdout",
     "output_type": "stream",
     "text": [
      "\n",
      "[NeMo I 2020-10-22 20:22:48 glue_benchmark_dataset:109] Processing DATA_DIR/glue_data/SST-2/train.tsv\n",
      "[NeMo I 2020-10-22 20:22:48 glue_benchmark_dataset:230] Writing example 0 of 67349\n",
      "[NeMo I 2020-10-22 20:22:48 glue_benchmark_dataset:312] *** Example ***\n",
      "[NeMo I 2020-10-22 20:22:48 glue_benchmark_dataset:313] guid: train-1\n",
      "[NeMo I 2020-10-22 20:22:48 glue_benchmark_dataset:314] tokens: [CLS] ▁hide ▁new ▁secretion s ▁from ▁the ▁parental ▁units [SEP]\n",
      "[NeMo I 2020-10-22 20:22:48 glue_benchmark_dataset:315] input_ids: 2 3077 78 27467 18 37 14 21207 1398 3 0 0 0 0 0 0 0 0 0 0 0 0 0 0 0 0 0 0 0 0 0 0 0 0 0 0 0 0 0 0 0 0 0 0 0 0 0 0 0 0 0 0 0 0 0 0 0 0 0 0 0 0 0 0 0 0 0 0 0 0 0 0 0 0 0 0 0 0 0 0 0 0 0 0 0 0 0 0 0 0 0 0 0 0 0 0 0 0 0 0 0 0 0 0 0 0 0 0 0 0 0 0 0 0 0 0 0 0 0 0 0 0 0 0 0 0 0 0\n",
      "[NeMo I 2020-10-22 20:22:48 glue_benchmark_dataset:316] input_mask: 1 1 1 1 1 1 1 1 1 1 0 0 0 0 0 0 0 0 0 0 0 0 0 0 0 0 0 0 0 0 0 0 0 0 0 0 0 0 0 0 0 0 0 0 0 0 0 0 0 0 0 0 0 0 0 0 0 0 0 0 0 0 0 0 0 0 0 0 0 0 0 0 0 0 0 0 0 0 0 0 0 0 0 0 0 0 0 0 0 0 0 0 0 0 0 0 0 0 0 0 0 0 0 0 0 0 0 0 0 0 0 0 0 0 0 0 0 0 0 0 0 0 0 0 0 0 0 0\n",
      "[NeMo I 2020-10-22 20:22:48 glue_benchmark_dataset:317] segment_ids: 0 0 0 0 0 0 0 0 0 0 0 0 0 0 0 0 0 0 0 0 0 0 0 0 0 0 0 0 0 0 0 0 0 0 0 0 0 0 0 0 0 0 0 0 0 0 0 0 0 0 0 0 0 0 0 0 0 0 0 0 0 0 0 0 0 0 0 0 0 0 0 0 0 0 0 0 0 0 0 0 0 0 0 0 0 0 0 0 0 0 0 0 0 0 0 0 0 0 0 0 0 0 0 0 0 0 0 0 0 0 0 0 0 0 0 0 0 0 0 0 0 0 0 0 0 0 0 0\n",
      "[NeMo I 2020-10-22 20:22:48 glue_benchmark_dataset:318] label: 0 (id = 0)\n",
      "[NeMo I 2020-10-22 20:22:48 glue_benchmark_dataset:312] *** Example ***\n",
      "[NeMo I 2020-10-22 20:22:48 glue_benchmark_dataset:313] guid: train-2\n",
      "[NeMo I 2020-10-22 20:22:48 glue_benchmark_dataset:314] tokens: [CLS] ▁contains ▁no ▁wit ▁ , ▁only ▁labor ed ▁gag s [SEP]\n",
      "[NeMo I 2020-10-22 20:22:48 glue_benchmark_dataset:315] input_ids: 2 1588 90 9642 13 15 104 2583 69 11655 18 3 0 0 0 0 0 0 0 0 0 0 0 0 0 0 0 0 0 0 0 0 0 0 0 0 0 0 0 0 0 0 0 0 0 0 0 0 0 0 0 0 0 0 0 0 0 0 0 0 0 0 0 0 0 0 0 0 0 0 0 0 0 0 0 0 0 0 0 0 0 0 0 0 0 0 0 0 0 0 0 0 0 0 0 0 0 0 0 0 0 0 0 0 0 0 0 0 0 0 0 0 0 0 0 0 0 0 0 0 0 0 0 0 0 0 0 0\n",
      "[NeMo I 2020-10-22 20:22:48 glue_benchmark_dataset:316] input_mask: 1 1 1 1 1 1 1 1 1 1 1 1 0 0 0 0 0 0 0 0 0 0 0 0 0 0 0 0 0 0 0 0 0 0 0 0 0 0 0 0 0 0 0 0 0 0 0 0 0 0 0 0 0 0 0 0 0 0 0 0 0 0 0 0 0 0 0 0 0 0 0 0 0 0 0 0 0 0 0 0 0 0 0 0 0 0 0 0 0 0 0 0 0 0 0 0 0 0 0 0 0 0 0 0 0 0 0 0 0 0 0 0 0 0 0 0 0 0 0 0 0 0 0 0 0 0 0 0\n",
      "[NeMo I 2020-10-22 20:22:48 glue_benchmark_dataset:317] segment_ids: 0 0 0 0 0 0 0 0 0 0 0 0 0 0 0 0 0 0 0 0 0 0 0 0 0 0 0 0 0 0 0 0 0 0 0 0 0 0 0 0 0 0 0 0 0 0 0 0 0 0 0 0 0 0 0 0 0 0 0 0 0 0 0 0 0 0 0 0 0 0 0 0 0 0 0 0 0 0 0 0 0 0 0 0 0 0 0 0 0 0 0 0 0 0 0 0 0 0 0 0 0 0 0 0 0 0 0 0 0 0 0 0 0 0 0 0 0 0 0 0 0 0 0 0 0 0 0 0\n",
      "[NeMo I 2020-10-22 20:22:48 glue_benchmark_dataset:318] label: 0 (id = 0)\n",
      "[NeMo I 2020-10-22 20:22:48 glue_benchmark_dataset:312] *** Example ***\n",
      "[NeMo I 2020-10-22 20:22:48 glue_benchmark_dataset:313] guid: train-3\n",
      "[NeMo I 2020-10-22 20:22:48 glue_benchmark_dataset:314] tokens: [CLS] ▁that ▁loves ▁its ▁characters ▁and ▁communicate s ▁something ▁rather ▁beautiful ▁about ▁human ▁nature [SEP]\n",
      "[NeMo I 2020-10-22 20:22:48 glue_benchmark_dataset:315] input_ids: 2 30 9330 82 1766 17 8709 18 301 864 1632 88 585 1444 3 0 0 0 0 0 0 0 0 0 0 0 0 0 0 0 0 0 0 0 0 0 0 0 0 0 0 0 0 0 0 0 0 0 0 0 0 0 0 0 0 0 0 0 0 0 0 0 0 0 0 0 0 0 0 0 0 0 0 0 0 0 0 0 0 0 0 0 0 0 0 0 0 0 0 0 0 0 0 0 0 0 0 0 0 0 0 0 0 0 0 0 0 0 0 0 0 0 0 0 0 0 0 0 0 0 0 0 0 0 0 0 0 0\n",
      "[NeMo I 2020-10-22 20:22:48 glue_benchmark_dataset:316] input_mask: 1 1 1 1 1 1 1 1 1 1 1 1 1 1 1 0 0 0 0 0 0 0 0 0 0 0 0 0 0 0 0 0 0 0 0 0 0 0 0 0 0 0 0 0 0 0 0 0 0 0 0 0 0 0 0 0 0 0 0 0 0 0 0 0 0 0 0 0 0 0 0 0 0 0 0 0 0 0 0 0 0 0 0 0 0 0 0 0 0 0 0 0 0 0 0 0 0 0 0 0 0 0 0 0 0 0 0 0 0 0 0 0 0 0 0 0 0 0 0 0 0 0 0 0 0 0 0 0\n",
      "[NeMo I 2020-10-22 20:22:48 glue_benchmark_dataset:317] segment_ids: 0 0 0 0 0 0 0 0 0 0 0 0 0 0 0 0 0 0 0 0 0 0 0 0 0 0 0 0 0 0 0 0 0 0 0 0 0 0 0 0 0 0 0 0 0 0 0 0 0 0 0 0 0 0 0 0 0 0 0 0 0 0 0 0 0 0 0 0 0 0 0 0 0 0 0 0 0 0 0 0 0 0 0 0 0 0 0 0 0 0 0 0 0 0 0 0 0 0 0 0 0 0 0 0 0 0 0 0 0 0 0 0 0 0 0 0 0 0 0 0 0 0 0 0 0 0 0 0\n",
      "[NeMo I 2020-10-22 20:22:48 glue_benchmark_dataset:318] label: 1 (id = 1)\n",
      "[NeMo I 2020-10-22 20:22:48 glue_benchmark_dataset:312] *** Example ***\n",
      "[NeMo I 2020-10-22 20:22:48 glue_benchmark_dataset:313] guid: train-4\n",
      "[NeMo I 2020-10-22 20:22:48 glue_benchmark_dataset:314] tokens: [CLS] ▁remains ▁utterly ▁satisfied ▁to ▁remain ▁the ▁same ▁throughout [SEP]\n",
      "[NeMo I 2020-10-22 20:22:48 glue_benchmark_dataset:315] input_ids: 2 1678 14037 8315 20 2166 14 205 892 3 0 0 0 0 0 0 0 0 0 0 0 0 0 0 0 0 0 0 0 0 0 0 0 0 0 0 0 0 0 0 0 0 0 0 0 0 0 0 0 0 0 0 0 0 0 0 0 0 0 0 0 0 0 0 0 0 0 0 0 0 0 0 0 0 0 0 0 0 0 0 0 0 0 0 0 0 0 0 0 0 0 0 0 0 0 0 0 0 0 0 0 0 0 0 0 0 0 0 0 0 0 0 0 0 0 0 0 0 0 0 0 0 0 0 0 0 0 0\n",
      "[NeMo I 2020-10-22 20:22:48 glue_benchmark_dataset:316] input_mask: 1 1 1 1 1 1 1 1 1 1 0 0 0 0 0 0 0 0 0 0 0 0 0 0 0 0 0 0 0 0 0 0 0 0 0 0 0 0 0 0 0 0 0 0 0 0 0 0 0 0 0 0 0 0 0 0 0 0 0 0 0 0 0 0 0 0 0 0 0 0 0 0 0 0 0 0 0 0 0 0 0 0 0 0 0 0 0 0 0 0 0 0 0 0 0 0 0 0 0 0 0 0 0 0 0 0 0 0 0 0 0 0 0 0 0 0 0 0 0 0 0 0 0 0 0 0 0 0\n",
      "[NeMo I 2020-10-22 20:22:48 glue_benchmark_dataset:317] segment_ids: 0 0 0 0 0 0 0 0 0 0 0 0 0 0 0 0 0 0 0 0 0 0 0 0 0 0 0 0 0 0 0 0 0 0 0 0 0 0 0 0 0 0 0 0 0 0 0 0 0 0 0 0 0 0 0 0 0 0 0 0 0 0 0 0 0 0 0 0 0 0 0 0 0 0 0 0 0 0 0 0 0 0 0 0 0 0 0 0 0 0 0 0 0 0 0 0 0 0 0 0 0 0 0 0 0 0 0 0 0 0 0 0 0 0 0 0 0 0 0 0 0 0 0 0 0 0 0 0\n",
      "[NeMo I 2020-10-22 20:22:48 glue_benchmark_dataset:318] label: 0 (id = 0)\n",
      "[NeMo I 2020-10-22 20:22:48 glue_benchmark_dataset:312] *** Example ***\n",
      "[NeMo I 2020-10-22 20:22:48 glue_benchmark_dataset:313] guid: train-5\n",
      "[NeMo I 2020-10-22 20:22:48 glue_benchmark_dataset:314] tokens: [CLS] ▁on ▁the ▁worst ▁revenge - of - the - ner d s ▁cliche s ▁the ▁filmmakers ▁could ▁dredge ▁up [SEP]\n",
      "[NeMo I 2020-10-22 20:22:48 glue_benchmark_dataset:315] input_ids: 2 27 14 4126 6299 8 1041 8 124 8 1031 43 18 24477 18 14 19485 110 28283 71 3 0 0 0 0 0 0 0 0 0 0 0 0 0 0 0 0 0 0 0 0 0 0 0 0 0 0 0 0 0 0 0 0 0 0 0 0 0 0 0 0 0 0 0 0 0 0 0 0 0 0 0 0 0 0 0 0 0 0 0 0 0 0 0 0 0 0 0 0 0 0 0 0 0 0 0 0 0 0 0 0 0 0 0 0 0 0 0 0 0 0 0 0 0 0 0 0 0 0 0 0 0 0 0 0 0 0 0\n",
      "[NeMo I 2020-10-22 20:22:48 glue_benchmark_dataset:316] input_mask: 1 1 1 1 1 1 1 1 1 1 1 1 1 1 1 1 1 1 1 1 1 0 0 0 0 0 0 0 0 0 0 0 0 0 0 0 0 0 0 0 0 0 0 0 0 0 0 0 0 0 0 0 0 0 0 0 0 0 0 0 0 0 0 0 0 0 0 0 0 0 0 0 0 0 0 0 0 0 0 0 0 0 0 0 0 0 0 0 0 0 0 0 0 0 0 0 0 0 0 0 0 0 0 0 0 0 0 0 0 0 0 0 0 0 0 0 0 0 0 0 0 0 0 0 0 0 0 0\n",
      "[NeMo I 2020-10-22 20:22:48 glue_benchmark_dataset:317] segment_ids: 0 0 0 0 0 0 0 0 0 0 0 0 0 0 0 0 0 0 0 0 0 0 0 0 0 0 0 0 0 0 0 0 0 0 0 0 0 0 0 0 0 0 0 0 0 0 0 0 0 0 0 0 0 0 0 0 0 0 0 0 0 0 0 0 0 0 0 0 0 0 0 0 0 0 0 0 0 0 0 0 0 0 0 0 0 0 0 0 0 0 0 0 0 0 0 0 0 0 0 0 0 0 0 0 0 0 0 0 0 0 0 0 0 0 0 0 0 0 0 0 0 0 0 0 0 0 0 0\n",
      "[NeMo I 2020-10-22 20:22:48 glue_benchmark_dataset:318] label: 0 (id = 0)\n",
      "[NeMo I 2020-10-22 20:22:50 glue_benchmark_dataset:230] Writing example 10000 of 67349\n",
      "[NeMo I 2020-10-22 20:22:52 glue_benchmark_dataset:230] Writing example 20000 of 67349\n",
      "[NeMo I 2020-10-22 20:22:53 glue_benchmark_dataset:230] Writing example 30000 of 67349\n",
      "[NeMo I 2020-10-22 20:22:55 glue_benchmark_dataset:230] Writing example 40000 of 67349\n",
      "[NeMo I 2020-10-22 20:22:56 glue_benchmark_dataset:230] Writing example 50000 of 67349\n",
      "[NeMo I 2020-10-22 20:22:58 glue_benchmark_dataset:230] Writing example 60000 of 67349\n",
      "[NeMo I 2020-10-22 20:22:59 glue_benchmark_dataset:150] Saving train features into DATA_DIR/glue_data/SST-2/cached_Sst2Processor_train_AlbertTokenizer_128_30000\n",
      "[NeMo I 2020-10-22 20:23:01 glue_benchmark_dataset:109] Processing DATA_DIR/glue_data/SST-2/dev.tsv\n",
      "[NeMo I 2020-10-22 20:23:01 glue_benchmark_dataset:230] Writing example 0 of 872\n",
      "[NeMo I 2020-10-22 20:23:01 glue_benchmark_dataset:312] *** Example ***\n",
      "[NeMo I 2020-10-22 20:23:01 glue_benchmark_dataset:313] guid: dev-1\n",
      "[NeMo I 2020-10-22 20:23:01 glue_benchmark_dataset:314] tokens: [CLS] ▁it ▁ ' s ▁a ▁charming ▁and ▁often ▁affecting ▁journey ▁ . [SEP]\n",
      "[NeMo I 2020-10-22 20:23:01 glue_benchmark_dataset:315] input_ids: 2 32 13 22 18 21 13275 17 478 13808 2998 13 9 3 0 0 0 0 0 0 0 0 0 0 0 0 0 0 0 0 0 0 0 0 0 0 0 0 0 0 0 0 0 0 0 0 0 0 0 0 0 0 0 0 0 0 0 0 0 0 0 0 0 0 0 0 0 0 0 0 0 0 0 0 0 0 0 0 0 0 0 0 0 0 0 0 0 0 0 0 0 0 0 0 0 0 0 0 0 0 0 0 0 0 0 0 0 0 0 0 0 0 0 0 0 0 0 0 0 0 0 0 0 0 0 0 0 0\n",
      "[NeMo I 2020-10-22 20:23:01 glue_benchmark_dataset:316] input_mask: 1 1 1 1 1 1 1 1 1 1 1 1 1 1 0 0 0 0 0 0 0 0 0 0 0 0 0 0 0 0 0 0 0 0 0 0 0 0 0 0 0 0 0 0 0 0 0 0 0 0 0 0 0 0 0 0 0 0 0 0 0 0 0 0 0 0 0 0 0 0 0 0 0 0 0 0 0 0 0 0 0 0 0 0 0 0 0 0 0 0 0 0 0 0 0 0 0 0 0 0 0 0 0 0 0 0 0 0 0 0 0 0 0 0 0 0 0 0 0 0 0 0 0 0 0 0 0 0\n",
      "[NeMo I 2020-10-22 20:23:01 glue_benchmark_dataset:317] segment_ids: 0 0 0 0 0 0 0 0 0 0 0 0 0 0 0 0 0 0 0 0 0 0 0 0 0 0 0 0 0 0 0 0 0 0 0 0 0 0 0 0 0 0 0 0 0 0 0 0 0 0 0 0 0 0 0 0 0 0 0 0 0 0 0 0 0 0 0 0 0 0 0 0 0 0 0 0 0 0 0 0 0 0 0 0 0 0 0 0 0 0 0 0 0 0 0 0 0 0 0 0 0 0 0 0 0 0 0 0 0 0 0 0 0 0 0 0 0 0 0 0 0 0 0 0 0 0 0 0\n",
      "[NeMo I 2020-10-22 20:23:01 glue_benchmark_dataset:318] label: 1 (id = 1)\n",
      "[NeMo I 2020-10-22 20:23:01 glue_benchmark_dataset:312] *** Example ***\n",
      "[NeMo I 2020-10-22 20:23:01 glue_benchmark_dataset:313] guid: dev-2\n",
      "[NeMo I 2020-10-22 20:23:01 glue_benchmark_dataset:314] tokens: [CLS] ▁un fl inch ing ly ▁bleak ▁and ▁desperate [SEP]\n",
      "[NeMo I 2020-10-22 20:23:01 glue_benchmark_dataset:315] input_ids: 2 367 4372 5588 68 102 20939 17 6393 3 0 0 0 0 0 0 0 0 0 0 0 0 0 0 0 0 0 0 0 0 0 0 0 0 0 0 0 0 0 0 0 0 0 0 0 0 0 0 0 0 0 0 0 0 0 0 0 0 0 0 0 0 0 0 0 0 0 0 0 0 0 0 0 0 0 0 0 0 0 0 0 0 0 0 0 0 0 0 0 0 0 0 0 0 0 0 0 0 0 0 0 0 0 0 0 0 0 0 0 0 0 0 0 0 0 0 0 0 0 0 0 0 0 0 0 0 0 0\n",
      "[NeMo I 2020-10-22 20:23:01 glue_benchmark_dataset:316] input_mask: 1 1 1 1 1 1 1 1 1 1 0 0 0 0 0 0 0 0 0 0 0 0 0 0 0 0 0 0 0 0 0 0 0 0 0 0 0 0 0 0 0 0 0 0 0 0 0 0 0 0 0 0 0 0 0 0 0 0 0 0 0 0 0 0 0 0 0 0 0 0 0 0 0 0 0 0 0 0 0 0 0 0 0 0 0 0 0 0 0 0 0 0 0 0 0 0 0 0 0 0 0 0 0 0 0 0 0 0 0 0 0 0 0 0 0 0 0 0 0 0 0 0 0 0 0 0 0 0\n",
      "[NeMo I 2020-10-22 20:23:01 glue_benchmark_dataset:317] segment_ids: 0 0 0 0 0 0 0 0 0 0 0 0 0 0 0 0 0 0 0 0 0 0 0 0 0 0 0 0 0 0 0 0 0 0 0 0 0 0 0 0 0 0 0 0 0 0 0 0 0 0 0 0 0 0 0 0 0 0 0 0 0 0 0 0 0 0 0 0 0 0 0 0 0 0 0 0 0 0 0 0 0 0 0 0 0 0 0 0 0 0 0 0 0 0 0 0 0 0 0 0 0 0 0 0 0 0 0 0 0 0 0 0 0 0 0 0 0 0 0 0 0 0 0 0 0 0 0 0\n",
      "[NeMo I 2020-10-22 20:23:01 glue_benchmark_dataset:318] label: 0 (id = 0)\n",
      "[NeMo I 2020-10-22 20:23:01 glue_benchmark_dataset:312] *** Example ***\n",
      "[NeMo I 2020-10-22 20:23:01 glue_benchmark_dataset:313] guid: dev-3\n",
      "[NeMo I 2020-10-22 20:23:01 glue_benchmark_dataset:314] tokens: [CLS] ▁allows ▁us ▁to ▁hope ▁that ▁nolan ▁is ▁poised ▁to ▁embark ▁a ▁major ▁career ▁as ▁a ▁commercial ▁yet ▁inventive ▁filmmaker ▁ . [SEP]\n",
      "[NeMo I 2020-10-22 20:23:01 glue_benchmark_dataset:315] input_ids: 2 2965 182 20 1376 30 14875 25 25251 20 20116 21 394 545 28 21 1439 768 29241 12921 13 9 3 0 0 0 0 0 0 0 0 0 0 0 0 0 0 0 0 0 0 0 0 0 0 0 0 0 0 0 0 0 0 0 0 0 0 0 0 0 0 0 0 0 0 0 0 0 0 0 0 0 0 0 0 0 0 0 0 0 0 0 0 0 0 0 0 0 0 0 0 0 0 0 0 0 0 0 0 0 0 0 0 0 0 0 0 0 0 0 0 0 0 0 0 0 0 0 0 0 0 0 0 0 0 0 0 0\n",
      "[NeMo I 2020-10-22 20:23:01 glue_benchmark_dataset:316] input_mask: 1 1 1 1 1 1 1 1 1 1 1 1 1 1 1 1 1 1 1 1 1 1 1 0 0 0 0 0 0 0 0 0 0 0 0 0 0 0 0 0 0 0 0 0 0 0 0 0 0 0 0 0 0 0 0 0 0 0 0 0 0 0 0 0 0 0 0 0 0 0 0 0 0 0 0 0 0 0 0 0 0 0 0 0 0 0 0 0 0 0 0 0 0 0 0 0 0 0 0 0 0 0 0 0 0 0 0 0 0 0 0 0 0 0 0 0 0 0 0 0 0 0 0 0 0 0 0 0\n",
      "[NeMo I 2020-10-22 20:23:01 glue_benchmark_dataset:317] segment_ids: 0 0 0 0 0 0 0 0 0 0 0 0 0 0 0 0 0 0 0 0 0 0 0 0 0 0 0 0 0 0 0 0 0 0 0 0 0 0 0 0 0 0 0 0 0 0 0 0 0 0 0 0 0 0 0 0 0 0 0 0 0 0 0 0 0 0 0 0 0 0 0 0 0 0 0 0 0 0 0 0 0 0 0 0 0 0 0 0 0 0 0 0 0 0 0 0 0 0 0 0 0 0 0 0 0 0 0 0 0 0 0 0 0 0 0 0 0 0 0 0 0 0 0 0 0 0 0 0\n",
      "[NeMo I 2020-10-22 20:23:01 glue_benchmark_dataset:318] label: 1 (id = 1)\n",
      "[NeMo I 2020-10-22 20:23:01 glue_benchmark_dataset:312] *** Example ***\n",
      "[NeMo I 2020-10-22 20:23:01 glue_benchmark_dataset:313] guid: dev-4\n",
      "[NeMo I 2020-10-22 20:23:01 glue_benchmark_dataset:314] tokens: [CLS] ▁the ▁acting ▁ , ▁costumes ▁ , ▁music ▁ , ▁cinematography ▁and ▁sound ▁are ▁all ▁as to und ing ▁given ▁the ▁production ▁ ' s ▁aust ere ▁local es ▁ . [SEP]\n",
      "[NeMo I 2020-10-22 20:23:01 glue_benchmark_dataset:315] input_ids: 2 14 2180 13 15 14458 13 15 232 13 15 18839 17 646 50 65 28 262 8724 68 504 14 637 13 22 18 28026 6345 375 160 13 9 3 0 0 0 0 0 0 0 0 0 0 0 0 0 0 0 0 0 0 0 0 0 0 0 0 0 0 0 0 0 0 0 0 0 0 0 0 0 0 0 0 0 0 0 0 0 0 0 0 0 0 0 0 0 0 0 0 0 0 0 0 0 0 0 0 0 0 0 0 0 0 0 0 0 0 0 0 0 0 0 0 0 0 0 0 0 0 0 0 0 0 0 0 0 0 0\n",
      "[NeMo I 2020-10-22 20:23:01 glue_benchmark_dataset:316] input_mask: 1 1 1 1 1 1 1 1 1 1 1 1 1 1 1 1 1 1 1 1 1 1 1 1 1 1 1 1 1 1 1 1 1 0 0 0 0 0 0 0 0 0 0 0 0 0 0 0 0 0 0 0 0 0 0 0 0 0 0 0 0 0 0 0 0 0 0 0 0 0 0 0 0 0 0 0 0 0 0 0 0 0 0 0 0 0 0 0 0 0 0 0 0 0 0 0 0 0 0 0 0 0 0 0 0 0 0 0 0 0 0 0 0 0 0 0 0 0 0 0 0 0 0 0 0 0 0 0\n",
      "[NeMo I 2020-10-22 20:23:01 glue_benchmark_dataset:317] segment_ids: 0 0 0 0 0 0 0 0 0 0 0 0 0 0 0 0 0 0 0 0 0 0 0 0 0 0 0 0 0 0 0 0 0 0 0 0 0 0 0 0 0 0 0 0 0 0 0 0 0 0 0 0 0 0 0 0 0 0 0 0 0 0 0 0 0 0 0 0 0 0 0 0 0 0 0 0 0 0 0 0 0 0 0 0 0 0 0 0 0 0 0 0 0 0 0 0 0 0 0 0 0 0 0 0 0 0 0 0 0 0 0 0 0 0 0 0 0 0 0 0 0 0 0 0 0 0 0 0\n",
      "[NeMo I 2020-10-22 20:23:01 glue_benchmark_dataset:318] label: 1 (id = 1)\n",
      "[NeMo I 2020-10-22 20:23:01 glue_benchmark_dataset:312] *** Example ***\n",
      "[NeMo I 2020-10-22 20:23:01 glue_benchmark_dataset:313] guid: dev-5\n",
      "[NeMo I 2020-10-22 20:23:01 glue_benchmark_dataset:314] tokens: [CLS] ▁it ▁ ' s ▁slow ▁ - - ▁very ▁ , ▁very ▁slow ▁ . [SEP]\n",
      "[NeMo I 2020-10-22 20:23:01 glue_benchmark_dataset:315] input_ids: 2 32 13 22 18 2276 13 8 8 253 13 15 253 2276 13 9 3 0 0 0 0 0 0 0 0 0 0 0 0 0 0 0 0 0 0 0 0 0 0 0 0 0 0 0 0 0 0 0 0 0 0 0 0 0 0 0 0 0 0 0 0 0 0 0 0 0 0 0 0 0 0 0 0 0 0 0 0 0 0 0 0 0 0 0 0 0 0 0 0 0 0 0 0 0 0 0 0 0 0 0 0 0 0 0 0 0 0 0 0 0 0 0 0 0 0 0 0 0 0 0 0 0 0 0 0 0 0 0\n",
      "[NeMo I 2020-10-22 20:23:01 glue_benchmark_dataset:316] input_mask: 1 1 1 1 1 1 1 1 1 1 1 1 1 1 1 1 1 0 0 0 0 0 0 0 0 0 0 0 0 0 0 0 0 0 0 0 0 0 0 0 0 0 0 0 0 0 0 0 0 0 0 0 0 0 0 0 0 0 0 0 0 0 0 0 0 0 0 0 0 0 0 0 0 0 0 0 0 0 0 0 0 0 0 0 0 0 0 0 0 0 0 0 0 0 0 0 0 0 0 0 0 0 0 0 0 0 0 0 0 0 0 0 0 0 0 0 0 0 0 0 0 0 0 0 0 0 0 0\n",
      "[NeMo I 2020-10-22 20:23:01 glue_benchmark_dataset:317] segment_ids: 0 0 0 0 0 0 0 0 0 0 0 0 0 0 0 0 0 0 0 0 0 0 0 0 0 0 0 0 0 0 0 0 0 0 0 0 0 0 0 0 0 0 0 0 0 0 0 0 0 0 0 0 0 0 0 0 0 0 0 0 0 0 0 0 0 0 0 0 0 0 0 0 0 0 0 0 0 0 0 0 0 0 0 0 0 0 0 0 0 0 0 0 0 0 0 0 0 0 0 0 0 0 0 0 0 0 0 0 0 0 0 0 0 0 0 0 0 0 0 0 0 0 0 0 0 0 0 0\n",
      "[NeMo I 2020-10-22 20:23:01 glue_benchmark_dataset:318] label: 0 (id = 0)\n",
      "[NeMo I 2020-10-22 20:23:01 glue_benchmark_dataset:150] Saving train features into DATA_DIR/glue_data/SST-2/cached_Sst2Processor_dev_AlbertTokenizer_128_30000\n"
     ]
    },
    {
     "data": {
      "application/vnd.jupyter.widget-view+json": {
       "model_id": "291cb6ede62f4d31a387826aa944d942",
       "version_major": 2,
       "version_minor": 0
      },
      "text/plain": [
       "HBox(children=(HTML(value='Downloading'), FloatProgress(value=0.0, max=47376396.0), HTML(value='')))"
      ]
     },
     "metadata": {},
     "output_type": "display_data"
    },
    {
     "name": "stdout",
     "output_type": "stream",
     "text": [
      "\n",
      "[NeMo I 2020-10-22 20:23:04 modelPT:583] Optimizer config = Adam (\n",
      "    Parameter Group 0\n",
      "        amsgrad: False\n",
      "        betas: (0.9, 0.999)\n",
      "        eps: 1e-08\n",
      "        lr: 5e-05\n",
      "        weight_decay: 0.0\n",
      "    )\n",
      "[NeMo I 2020-10-22 20:23:04 lr_scheduler:554] Scheduler \"<nemo.core.optim.lr_scheduler.WarmupAnnealing object at 0x7f5b282596d8>\" \n",
      "    will be used during training (effective maximum steps = 526) - \n",
      "    Parameters : \n",
      "    (warmup_steps: null\n",
      "    warmup_ratio: 0.1\n",
      "    last_epoch: -1\n",
      "    max_steps: 526\n",
      "    )\n"
     ]
    }
   ],
   "source": [
    "model = nemo_nlp.models.GLUEModel(cfg=config.model, trainer=trainer)"
   ]
  },
  {
   "cell_type": "markdown",
   "metadata": {
    "colab_type": "text",
    "id": "kQ592Tx4pzyB"
   },
   "source": [
    "## Monitoring training progress\n",
    "Optionally, you can create a Tensorboard visualization to monitor training progress."
   ]
  },
  {
   "cell_type": "code",
   "execution_count": 14,
   "metadata": {
    "colab": {},
    "colab_type": "code",
    "id": "mTJr16_pp0aS"
   },
   "outputs": [
    {
     "name": "stdout",
     "output_type": "stream",
     "text": [
      "To use tensorboard, please use this notebook in a Google Colab environment.\n"
     ]
    }
   ],
   "source": [
    "try:\n",
    "  from google import colab\n",
    "  COLAB_ENV = True\n",
    "except (ImportError, ModuleNotFoundError):\n",
    "  COLAB_ENV = False\n",
    "\n",
    "# Load the TensorBoard notebook extension\n",
    "if COLAB_ENV:\n",
    "  %load_ext tensorboard\n",
    "  %tensorboard --logdir {exp_dir}\n",
    "else:\n",
    "  print(\"To use tensorboard, please use this notebook in a Google Colab environment.\")"
   ]
  },
  {
   "cell_type": "markdown",
   "metadata": {
    "colab_type": "text",
    "id": "CFgAlaIdndjW"
   },
   "source": [
    "Note, it’s recommended to finetune the model on each task separately. Also, based on [GLUE Benchmark FAQ#12](https://gluebenchmark.com/faq), there are might be some differences in dev/test distributions for QQP task and in train/dev for WNLI task."
   ]
  },
  {
   "cell_type": "code",
   "execution_count": 15,
   "metadata": {
    "colab": {},
    "colab_type": "code",
    "id": "hUvnSpyjp0Dh"
   },
   "outputs": [
    {
     "name": "stderr",
     "output_type": "stream",
     "text": [
      "initializing ddp: GLOBAL_RANK: 0, MEMBER: 1/1\n",
      "INFO - initializing ddp: GLOBAL_RANK: 0, MEMBER: 1/1\n"
     ]
    },
    {
     "name": "stdout",
     "output_type": "stream",
     "text": [
      "[NeMo I 2020-10-22 20:23:07 modelPT:583] Optimizer config = Adam (\n",
      "    Parameter Group 0\n",
      "        amsgrad: False\n",
      "        betas: (0.9, 0.999)\n",
      "        eps: 1e-08\n",
      "        lr: 5e-05\n",
      "        weight_decay: 0.0\n",
      "    )\n",
      "[NeMo I 2020-10-22 20:23:07 lr_scheduler:554] Scheduler \"<nemo.core.optim.lr_scheduler.WarmupAnnealing object at 0x7f5b2911b1d0>\" \n",
      "    will be used during training (effective maximum steps = 526) - \n",
      "    Parameters : \n",
      "    (warmup_steps: null\n",
      "    warmup_ratio: 0.1\n",
      "    last_epoch: -1\n",
      "    max_steps: 526\n",
      "    )\n"
     ]
    },
    {
     "name": "stderr",
     "output_type": "stream",
     "text": [
      "\n",
      "  | Name       | Type               | Params\n",
      "--------------------------------------------------\n",
      "0 | bert_model | AlbertEncoder      | 11 M  \n",
      "1 | pooler     | SequenceClassifier | 592 K \n",
      "2 | loss       | CrossEntropyLoss   | 0     \n",
      "INFO - \n",
      "  | Name       | Type               | Params\n",
      "--------------------------------------------------\n",
      "0 | bert_model | AlbertEncoder      | 11 M  \n",
      "1 | pooler     | SequenceClassifier | 592 K \n",
      "2 | loss       | CrossEntropyLoss   | 0     \n"
     ]
    },
    {
     "data": {
      "application/vnd.jupyter.widget-view+json": {
       "model_id": "",
       "version_major": 2,
       "version_minor": 0
      },
      "text/plain": [
       "HBox(children=(HTML(value='Validation sanity check'), FloatProgress(value=1.0, bar_style='info', layout=Layout…"
      ]
     },
     "metadata": {},
     "output_type": "display_data"
    },
    {
     "name": "stdout",
     "output_type": "stream",
     "text": [
      "[NeMo I 2020-10-22 20:23:08 glue_benchmark_model:200] DEV_ evaluation: {'acc': 0.5}\n",
      "[NeMo I 2020-10-22 20:23:08 glue_benchmark_model:207] Saving labels and predictions to WORK_DIR/sst-2.txt\n"
     ]
    },
    {
     "name": "stderr",
     "output_type": "stream",
     "text": [
      "[NeMo W 2020-10-22 20:23:08 nemo_logging:349] /anaconda/envs/azureml_py36/lib/python3.6/site-packages/pytorch_lightning/utilities/distributed.py:45: UserWarning: The validation_epoch_end should not return anything as of 9.1.to log, use self.log(...) or self.write(...) directly in the LightningModule\n",
      "      warnings.warn(*args, **kwargs)\n",
      "    \n",
      "[NeMo W 2020-10-22 20:23:08 nemo_logging:349] /anaconda/envs/azureml_py36/lib/python3.6/site-packages/pytorch_lightning/utilities/distributed.py:45: UserWarning: The {log:dict keyword} was deprecated in 0.9.1 and will be removed in 1.0.0\n",
      "    Please use self.log(...) inside the lightningModule instead.\n",
      "    \n",
      "    # log on a step or aggregate epoch metric to the logger and/or progress bar\n",
      "    # (inside LightningModule)\n",
      "    self.log('train_loss', loss, on_step=True, on_epoch=True, prog_bar=True)\n",
      "      warnings.warn(*args, **kwargs)\n",
      "    \n"
     ]
    },
    {
     "data": {
      "application/vnd.jupyter.widget-view+json": {
       "model_id": "8435f4c89acd47d5a96e14a04fe9934d",
       "version_major": 2,
       "version_minor": 0
      },
      "text/plain": [
       "HBox(children=(HTML(value='Training'), FloatProgress(value=1.0, bar_style='info', layout=Layout(flex='2'), max…"
      ]
     },
     "metadata": {},
     "output_type": "display_data"
    },
    {
     "data": {
      "application/vnd.jupyter.widget-view+json": {
       "model_id": "",
       "version_major": 2,
       "version_minor": 0
      },
      "text/plain": [
       "HBox(children=(HTML(value='Validating'), FloatProgress(value=1.0, bar_style='info', layout=Layout(flex='2'), m…"
      ]
     },
     "metadata": {},
     "output_type": "display_data"
    },
    {
     "name": "stdout",
     "output_type": "stream",
     "text": [
      "[NeMo I 2020-10-22 20:25:39 glue_benchmark_model:200] DEV_ evaluation: {'acc': 0.8818807339449541}\n",
      "[NeMo I 2020-10-22 20:25:39 glue_benchmark_model:207] Saving labels and predictions to WORK_DIR/sst-2.txt\n",
      "\n"
     ]
    },
    {
     "data": {
      "text/plain": [
       "1"
      ]
     },
     "execution_count": 15,
     "metadata": {},
     "output_type": "execute_result"
    }
   ],
   "source": [
    "# start model training\n",
    "trainer.fit(model)"
   ]
  },
  {
   "cell_type": "markdown",
   "metadata": {
    "colab_type": "text",
    "id": "ref1qSonGNhP"
   },
   "source": [
    "## Training Script\n",
    "\n",
    "If you have NeMo installed locally, you can also train the model with [examples/nlp/glue_benchmark/glue_benchmark.py](https://github.com/NVIDIA/NeMo/blob/main/examples/nlp/glue_benchmark/glue_benchmark.py).\n",
    "\n",
    "To run training script, use:\n",
    "\n",
    "`python glue_benchmark.py \\\n",
    " model.dataset.data_dir=PATH_TO_DATA_DIR \\\n",
    " model.task_name=TASK`\n"
   ]
  },
  {
   "cell_type": "markdown",
   "metadata": {
    "colab_type": "text",
    "id": "KVPFofXaoKNE"
   },
   "source": [
    "Average results after 3 runs:\n",
    "\n",
    "| Task  |         Metric           | ALBERT-large | ALBERT-xlarge | Megatron-345m | BERT base paper | BERT large paper |\n",
    "|-------|--------------------------|--------------|---------------|---------------|-----------------|------------------|\n",
    "| CoLA  | Matthew's correlation    |     54.94    |     61.72     |     64.56     |      52.1       |       60.5       |\n",
    "| SST-2 | Accuracy                 |     92.74    |     91.86     |     95.87     |      93.5       |       94.9       |\n",
    "| MRPC  | F1/Accuracy              |  92.05/88.97 |  91.87/88.61  |  92.36/89.46  |      88.9/-     |     89.3/-       |\n",
    "| STS-B | Person/Spearman corr.    |  90.41/90.21 |  90.07/90.10  |  91.51/91.61  |     -/85.8      |      -/86.5      |\n",
    "| QQP   | F1/Accuracy              |  88.26/91.26 |  88.80/91.65  |  89.18/91.91  |     71.2/-      |     72.1/-       |\n",
    "| MNLI  | Matched /Mismatched acc. |  86.69/86.81 |  88.66/88.73  |  89.86/89.81  |    84.6/83.4    |     86.7/85.9    |\n",
    "| QNLI  | Accuracy                 |     92.68    |     93.66     |     94.33     |      90.5       |       92.7       |\n",
    "| RTE   | Accuracy                 |     80.87    |     82.86     |     83.39     |      66.4       |       70.1       |\n",
    "\n",
    "WNLI task was excluded from the experiments due to the problematic WNLI set.\n",
    "The dev sets were used for evaluation for ALBERT and Megatron models, and the test sets results for [the BERT paper](https://arxiv.org/abs/1810.04805).\n",
    "\n",
    "Hyperparameters used to get the results from the above table, could be found in the table below. Some tasks could be further finetuned to improve performance numbers, the tables are for a baseline reference only.\n",
    "Each cell in the table represents the following parameters:\n",
    "Number of GPUs used/ Batch Size/ Learning Rate/ Number of Epochs. For not specified parameters, please refer to the default parameters in the training script.\n",
    "\n",
    "| Task  | ALBERT-large | ALBERT-xlarge | Megatron-345m |\n",
    "|-------|--------------|---------------|---------------|\n",
    "| CoLA  | 1 / 32 / 1e-5 / 3  |  1 / 32 / 1e-5 / 10 |  4 / 16 / 2e-5 / 12 |\n",
    "| SST-2 | 4 / 16 / 2e-5 / 5  |  4 / 16 / 2e-5 /12  |  4 / 16 / 2e-5 / 12 |\n",
    "| MRPC  | 1 / 32 / 1e-5 / 5  |  1 / 16 / 2e-5 / 5  |  1 / 16 / 2e-5 / 10 |\n",
    "| STS-B | 1 / 16 / 2e-5 / 5  |  1 / 16 / 4e-5 / 12 |  4 / 16 / 3e-5 / 12 |\n",
    "| QQP   | 1 / 16 / 2e-5 / 5  | 4 / 16 / 1e-5 / 12  |  4 / 16 / 1e-5 / 12 |\n",
    "| MNLI  | 4 / 64 / 1e-5 / 5  |  4 / 32 / 1e-5 / 5  |  4 / 32 / 1e-5 / 5  | \n",
    "| QNLI  | 4 / 16 / 1e-5 / 5  |  4 / 16 / 1e-5 / 5  |  4 / 16 / 2e-5 / 5  | \n",
    "| RTE   | 1 / 16 / 1e-5 / 5  | 1 / 16 / 1e-5 / 12  |  4 / 16 / 3e-5 / 12 |\n"
   ]
  },
  {
   "cell_type": "raw",
   "metadata": {},
   "source": [
    "  | Name       | Type               | Params\n",
    "--------------------------------------------------\n",
    "0 | bert_model | AlbertEncoder      | 11 M  \n",
    "1 | pooler     | SequenceClassifier | 592 K \n",
    "2 | loss       | CrossEntropyLoss   | 0     \n",
    "Validation sanity check:  50%|██████████████████████████████████████████████████████▌                                                      | 1/2 [00:00<00:00,  1.96it/s][NeMo I 2020-10-22 14:04:27 glue_benchmark_model:200] DEV_ evaluation: {'acc': 0.5357142857142857}   \n",
    "Epoch 0:  87%|██████████████████████████████████████████████████████████████████████████▏          | 515/590 [02:24<00:21,  3.57it/s, loss=0.237, v_num=4-06, lr=3.74e-5]\n",
    "Epoch 0: 100%|█████████████████████████████████████████████████████████████████████████████████████▋| 588/590 [02:28<00:00,  3.95it/s, loss=0.215, v_num=4-06, lr=3.7e-5]\n",
    "[NeMo I 2020-10-22 14:06:56 glue_benchmark_model:200] DEV_ evaluation: {'acc': 0.8864678899082569}███████████████████████████████████▏   | 61/63 [00:01<00:00, 41.04it/s]\n",
    "Epoch 1: 100%|████████████████████████████████████████████████████████████| 590/590 [02:29<00:00,  3.96it/s, loss=0.154, v_num=4-06, lr=1.85e-5, acc=0.886, val_loss=0.3]\n",
    "[NeMo I 2020-10-22 14:09:25 glue_benchmark_model:200] DEV_ evaluation: {'acc': 0.8864678899082569}█████████████████████████████████▎     | 60/63 [00:01<00:00, 38.90it/s]\n",
    "Epoch 2: 100%|████████████████████████████████████████████████████████████████| 590/590 [02:28<00:00,  3.98it/s, loss=0.111, v_num=4-06, lr=0, acc=0.886, val_loss=0.286]\n",
    "[NeMo I 2020-10-22 14:11:53 glue_benchmark_model:200] DEV_ evaluation: {'acc': 0.9013761467889908}███████████████████████████████████████| 63/63 [00:01<00:00, 39.70it/s]\n",
    "Epoch 2: 100%|████████████████████████████████████████████████████████████████| 590/590 [02:28<00:00,  3.97it/s, loss=0.111, v_num=4-06, lr=0, acc=0.901, val_loss=0.311]\n",
    "----------- done -----------      "
   ]
  },
  {
   "cell_type": "raw",
   "metadata": {},
   "source": [
    "with bash launch-nemo-glue.sh from NeMo directory "
   ]
  },
  {
   "cell_type": "code",
   "execution_count": null,
   "metadata": {},
   "outputs": [],
   "source": []
  }
 ],
 "metadata": {
  "accelerator": "GPU",
  "colab": {
   "collapsed_sections": [],
   "name": "GLUE_Benchmark.ipynb",
   "private_outputs": true,
   "provenance": []
  },
  "kernelspec": {
   "display_name": "Python 3",
   "language": "python",
   "name": "python3"
  },
  "language_info": {
   "codemirror_mode": {
    "name": "ipython",
    "version": 3
   },
   "file_extension": ".py",
   "mimetype": "text/x-python",
   "name": "python",
   "nbconvert_exporter": "python",
   "pygments_lexer": "ipython3",
   "version": "3.6.9"
  },
  "pycharm": {
   "stem_cell": {
    "cell_type": "raw",
    "metadata": {
     "collapsed": false
    },
    "source": []
   }
  }
 },
 "nbformat": 4,
 "nbformat_minor": 4
}
